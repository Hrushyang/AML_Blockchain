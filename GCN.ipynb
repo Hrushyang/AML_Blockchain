{
 "cells": [
  {
   "cell_type": "code",
   "execution_count": 24,
   "metadata": {
    "id": "8fFna02HwQxB"
   },
   "outputs": [],
   "source": [
    "import numpy as np\n",
    "import os\n",
    "import pandas as pd\n",
    "from sklearn.metrics import f1_score, precision_score, recall_score\n",
    "from sklearn.manifold import TSNE\n",
    "import matplotlib.pyplot as plt\n",
    "\n",
    "import torch\n",
    "import torch.nn as nn\n",
    "import torch.nn.functional as F\n",
    "from torch.nn import Embedding\n",
    "from torch.nn import Parameter\n",
    "from torch_geometric.data import Data,DataLoader\n",
    "from torch_geometric.nn import GCNConv\n",
    "from torch_geometric.utils import to_undirected"
   ]
  },
  {
   "cell_type": "code",
   "execution_count": 25,
   "metadata": {
    "id": "BLSPDBtLy-aT"
   },
   "outputs": [],
   "source": [
    "device = torch.device('cuda' if torch.cuda.is_available() else 'cpu')"
   ]
  },
  {
   "cell_type": "code",
   "execution_count": 27,
   "metadata": {},
   "outputs": [
    {
     "data": {
      "text/plain": [
       "device(type='cpu')"
      ]
     },
     "execution_count": 27,
     "metadata": {},
     "output_type": "execute_result"
    }
   ],
   "source": [
    "device"
   ]
  },
  {
   "cell_type": "markdown",
   "metadata": {
    "id": "wfVZ-ihYit3K"
   },
   "source": [
    "## Data Preparation"
   ]
  },
  {
   "cell_type": "code",
   "execution_count": 29,
   "metadata": {
    "id": "4q6mAv_0jNwD"
   },
   "outputs": [
    {
     "name": "stdout",
     "output_type": "stream",
     "text": [
      "Number of edges: 234355\n"
     ]
    }
   ],
   "source": [
    "# Load Dataframe\n",
    "df_edge = pd.read_csv('Dataset/elliptic_txs_edgelist.csv')\n",
    "df_class = pd.read_csv('Dataset/elliptic_txs_classes.csv')\n",
    "df_features = pd.read_csv('Dataset/elliptic_txs_features.csv',header=None)\n",
    "\n",
    "# Setting Column name\n",
    "df_features.columns = ['id', 'time step'] + [f'trans_feat_{i}' for i in range(93)] + [f'agg_feat_{i}' for i in range(72)]\n",
    "\n",
    "print('Number of edges: {}'.format(len(df_edge)))"
   ]
  },
  {
   "cell_type": "code",
   "execution_count": 30,
   "metadata": {
    "id": "bWoUAV16mLHS"
   },
   "outputs": [
    {
     "name": "stdout",
     "output_type": "stream",
     "text": [
      "Number of nodes: 203769\n"
     ]
    }
   ],
   "source": [
    "all_nodes = list(set(df_edge['txId1']).union(set(df_edge['txId2'])).union(set(df_class['txId'])).union(set(df_features['id'])))\n",
    "nodes_df = pd.DataFrame(all_nodes,columns=['id']).reset_index()\n",
    "\n",
    "print('Number of nodes: {}'.format(len(nodes_df)))"
   ]
  },
  {
   "cell_type": "code",
   "execution_count": 31,
   "metadata": {
    "id": "4dot3YJdotoU"
   },
   "outputs": [
    {
     "data": {
      "text/html": [
       "<div>\n",
       "<style scoped>\n",
       "    .dataframe tbody tr th:only-of-type {\n",
       "        vertical-align: middle;\n",
       "    }\n",
       "\n",
       "    .dataframe tbody tr th {\n",
       "        vertical-align: top;\n",
       "    }\n",
       "\n",
       "    .dataframe thead th {\n",
       "        text-align: right;\n",
       "    }\n",
       "</style>\n",
       "<table border=\"1\" class=\"dataframe\">\n",
       "  <thead>\n",
       "    <tr style=\"text-align: right;\">\n",
       "      <th></th>\n",
       "      <th>txId1</th>\n",
       "      <th>txId2</th>\n",
       "    </tr>\n",
       "  </thead>\n",
       "  <tbody>\n",
       "    <tr>\n",
       "      <th>0</th>\n",
       "      <td>153797</td>\n",
       "      <td>56594</td>\n",
       "    </tr>\n",
       "    <tr>\n",
       "      <th>1</th>\n",
       "      <td>56482</td>\n",
       "      <td>137562</td>\n",
       "    </tr>\n",
       "    <tr>\n",
       "      <th>3575</th>\n",
       "      <td>153261</td>\n",
       "      <td>137562</td>\n",
       "    </tr>\n",
       "    <tr>\n",
       "      <th>1387</th>\n",
       "      <td>153677</td>\n",
       "      <td>137562</td>\n",
       "    </tr>\n",
       "    <tr>\n",
       "      <th>6890</th>\n",
       "      <td>170229</td>\n",
       "      <td>137562</td>\n",
       "    </tr>\n",
       "  </tbody>\n",
       "</table>\n",
       "</div>"
      ],
      "text/plain": [
       "       txId1   txId2\n",
       "0     153797   56594\n",
       "1      56482  137562\n",
       "3575  153261  137562\n",
       "1387  153677  137562\n",
       "6890  170229  137562"
      ]
     },
     "execution_count": 31,
     "metadata": {},
     "output_type": "execute_result"
    }
   ],
   "source": [
    "df_edge = df_edge.join(nodes_df.rename(columns={'id':'txId1'}).set_index('txId1'),on='txId1',how='inner') \\\n",
    "       .join(nodes_df.rename(columns={'id':'txId2'}).set_index('txId2'),on='txId2',how='inner',rsuffix='2') \\\n",
    "       .drop(columns=['txId1','txId2']) \\\n",
    "       .rename(columns={'index':'txId1','index2':'txId2'})\n",
    "df_edge.head()"
   ]
  },
  {
   "cell_type": "code",
   "execution_count": 32,
   "metadata": {
    "id": "HGivrPVeo5Uy"
   },
   "outputs": [
    {
     "data": {
      "text/html": [
       "<div>\n",
       "<style scoped>\n",
       "    .dataframe tbody tr th:only-of-type {\n",
       "        vertical-align: middle;\n",
       "    }\n",
       "\n",
       "    .dataframe tbody tr th {\n",
       "        vertical-align: top;\n",
       "    }\n",
       "\n",
       "    .dataframe thead th {\n",
       "        text-align: right;\n",
       "    }\n",
       "</style>\n",
       "<table border=\"1\" class=\"dataframe\">\n",
       "  <thead>\n",
       "    <tr style=\"text-align: right;\">\n",
       "      <th></th>\n",
       "      <th>txId</th>\n",
       "      <th>class</th>\n",
       "    </tr>\n",
       "  </thead>\n",
       "  <tbody>\n",
       "    <tr>\n",
       "      <th>0</th>\n",
       "      <td>153797</td>\n",
       "      <td>unknown</td>\n",
       "    </tr>\n",
       "    <tr>\n",
       "      <th>1</th>\n",
       "      <td>56594</td>\n",
       "      <td>unknown</td>\n",
       "    </tr>\n",
       "    <tr>\n",
       "      <th>2</th>\n",
       "      <td>56482</td>\n",
       "      <td>unknown</td>\n",
       "    </tr>\n",
       "    <tr>\n",
       "      <th>3</th>\n",
       "      <td>137562</td>\n",
       "      <td>2</td>\n",
       "    </tr>\n",
       "    <tr>\n",
       "      <th>4</th>\n",
       "      <td>161328</td>\n",
       "      <td>unknown</td>\n",
       "    </tr>\n",
       "  </tbody>\n",
       "</table>\n",
       "</div>"
      ],
      "text/plain": [
       "     txId    class\n",
       "0  153797  unknown\n",
       "1   56594  unknown\n",
       "2   56482  unknown\n",
       "3  137562        2\n",
       "4  161328  unknown"
      ]
     },
     "execution_count": 32,
     "metadata": {},
     "output_type": "execute_result"
    }
   ],
   "source": [
    "df_class = df_class.join(nodes_df.rename(columns={'id':'txId'}).set_index('txId'),on='txId',how='inner') \\\n",
    "        .drop(columns=['txId']).rename(columns={'index':'txId'})[['txId','class']]\n",
    "df_class.head()"
   ]
  },
  {
   "cell_type": "code",
   "execution_count": 33,
   "metadata": {
    "id": "lpAjxw4VqprC"
   },
   "outputs": [
    {
     "data": {
      "text/html": [
       "<div>\n",
       "<style scoped>\n",
       "    .dataframe tbody tr th:only-of-type {\n",
       "        vertical-align: middle;\n",
       "    }\n",
       "\n",
       "    .dataframe tbody tr th {\n",
       "        vertical-align: top;\n",
       "    }\n",
       "\n",
       "    .dataframe thead th {\n",
       "        text-align: right;\n",
       "    }\n",
       "</style>\n",
       "<table border=\"1\" class=\"dataframe\">\n",
       "  <thead>\n",
       "    <tr style=\"text-align: right;\">\n",
       "      <th></th>\n",
       "      <th>id</th>\n",
       "      <th>time step</th>\n",
       "      <th>trans_feat_0</th>\n",
       "      <th>trans_feat_1</th>\n",
       "      <th>trans_feat_2</th>\n",
       "      <th>trans_feat_3</th>\n",
       "      <th>trans_feat_4</th>\n",
       "      <th>trans_feat_5</th>\n",
       "      <th>trans_feat_6</th>\n",
       "      <th>trans_feat_7</th>\n",
       "      <th>...</th>\n",
       "      <th>agg_feat_62</th>\n",
       "      <th>agg_feat_63</th>\n",
       "      <th>agg_feat_64</th>\n",
       "      <th>agg_feat_65</th>\n",
       "      <th>agg_feat_66</th>\n",
       "      <th>agg_feat_67</th>\n",
       "      <th>agg_feat_68</th>\n",
       "      <th>agg_feat_69</th>\n",
       "      <th>agg_feat_70</th>\n",
       "      <th>agg_feat_71</th>\n",
       "    </tr>\n",
       "  </thead>\n",
       "  <tbody>\n",
       "    <tr>\n",
       "      <th>0</th>\n",
       "      <td>153797</td>\n",
       "      <td>1</td>\n",
       "      <td>-0.171469</td>\n",
       "      <td>-0.184668</td>\n",
       "      <td>-1.201369</td>\n",
       "      <td>-0.121970</td>\n",
       "      <td>-0.043875</td>\n",
       "      <td>-0.113002</td>\n",
       "      <td>-0.061584</td>\n",
       "      <td>-0.162097</td>\n",
       "      <td>...</td>\n",
       "      <td>-0.562153</td>\n",
       "      <td>-0.600999</td>\n",
       "      <td>1.461330</td>\n",
       "      <td>1.461369</td>\n",
       "      <td>0.018279</td>\n",
       "      <td>-0.087490</td>\n",
       "      <td>-0.131155</td>\n",
       "      <td>-0.097524</td>\n",
       "      <td>-0.120613</td>\n",
       "      <td>-0.119792</td>\n",
       "    </tr>\n",
       "    <tr>\n",
       "      <th>1</th>\n",
       "      <td>56594</td>\n",
       "      <td>1</td>\n",
       "      <td>-0.171484</td>\n",
       "      <td>-0.184668</td>\n",
       "      <td>-1.201369</td>\n",
       "      <td>-0.121970</td>\n",
       "      <td>-0.043875</td>\n",
       "      <td>-0.113002</td>\n",
       "      <td>-0.061584</td>\n",
       "      <td>-0.162112</td>\n",
       "      <td>...</td>\n",
       "      <td>0.947382</td>\n",
       "      <td>0.673103</td>\n",
       "      <td>-0.979074</td>\n",
       "      <td>-0.978556</td>\n",
       "      <td>0.018279</td>\n",
       "      <td>-0.087490</td>\n",
       "      <td>-0.131155</td>\n",
       "      <td>-0.097524</td>\n",
       "      <td>-0.120613</td>\n",
       "      <td>-0.119792</td>\n",
       "    </tr>\n",
       "    <tr>\n",
       "      <th>2</th>\n",
       "      <td>56482</td>\n",
       "      <td>1</td>\n",
       "      <td>-0.172107</td>\n",
       "      <td>-0.184668</td>\n",
       "      <td>-1.201369</td>\n",
       "      <td>-0.121970</td>\n",
       "      <td>-0.043875</td>\n",
       "      <td>-0.113002</td>\n",
       "      <td>-0.061584</td>\n",
       "      <td>-0.162749</td>\n",
       "      <td>...</td>\n",
       "      <td>0.670883</td>\n",
       "      <td>0.439728</td>\n",
       "      <td>-0.979074</td>\n",
       "      <td>-0.978556</td>\n",
       "      <td>-0.098889</td>\n",
       "      <td>-0.106715</td>\n",
       "      <td>-0.131155</td>\n",
       "      <td>-0.183671</td>\n",
       "      <td>-0.120613</td>\n",
       "      <td>-0.119792</td>\n",
       "    </tr>\n",
       "    <tr>\n",
       "      <th>3</th>\n",
       "      <td>137562</td>\n",
       "      <td>1</td>\n",
       "      <td>0.163054</td>\n",
       "      <td>1.963790</td>\n",
       "      <td>-0.646376</td>\n",
       "      <td>12.409294</td>\n",
       "      <td>-0.063725</td>\n",
       "      <td>9.782742</td>\n",
       "      <td>12.414558</td>\n",
       "      <td>-0.163645</td>\n",
       "      <td>...</td>\n",
       "      <td>-0.577099</td>\n",
       "      <td>-0.613614</td>\n",
       "      <td>0.241128</td>\n",
       "      <td>0.241406</td>\n",
       "      <td>1.072793</td>\n",
       "      <td>0.085530</td>\n",
       "      <td>-0.131155</td>\n",
       "      <td>0.677799</td>\n",
       "      <td>-0.120613</td>\n",
       "      <td>-0.119792</td>\n",
       "    </tr>\n",
       "    <tr>\n",
       "      <th>4</th>\n",
       "      <td>161328</td>\n",
       "      <td>1</td>\n",
       "      <td>1.011523</td>\n",
       "      <td>-0.081127</td>\n",
       "      <td>-1.201369</td>\n",
       "      <td>1.153668</td>\n",
       "      <td>0.333276</td>\n",
       "      <td>1.312656</td>\n",
       "      <td>-0.061584</td>\n",
       "      <td>-0.163523</td>\n",
       "      <td>...</td>\n",
       "      <td>-0.511871</td>\n",
       "      <td>-0.400422</td>\n",
       "      <td>0.517257</td>\n",
       "      <td>0.579382</td>\n",
       "      <td>0.018279</td>\n",
       "      <td>0.277775</td>\n",
       "      <td>0.326394</td>\n",
       "      <td>1.293750</td>\n",
       "      <td>0.178136</td>\n",
       "      <td>0.179117</td>\n",
       "    </tr>\n",
       "  </tbody>\n",
       "</table>\n",
       "<p>5 rows × 167 columns</p>\n",
       "</div>"
      ],
      "text/plain": [
       "       id  time step  trans_feat_0  trans_feat_1  trans_feat_2  trans_feat_3  \\\n",
       "0  153797          1     -0.171469     -0.184668     -1.201369     -0.121970   \n",
       "1   56594          1     -0.171484     -0.184668     -1.201369     -0.121970   \n",
       "2   56482          1     -0.172107     -0.184668     -1.201369     -0.121970   \n",
       "3  137562          1      0.163054      1.963790     -0.646376     12.409294   \n",
       "4  161328          1      1.011523     -0.081127     -1.201369      1.153668   \n",
       "\n",
       "   trans_feat_4  trans_feat_5  trans_feat_6  trans_feat_7  ...  agg_feat_62  \\\n",
       "0     -0.043875     -0.113002     -0.061584     -0.162097  ...    -0.562153   \n",
       "1     -0.043875     -0.113002     -0.061584     -0.162112  ...     0.947382   \n",
       "2     -0.043875     -0.113002     -0.061584     -0.162749  ...     0.670883   \n",
       "3     -0.063725      9.782742     12.414558     -0.163645  ...    -0.577099   \n",
       "4      0.333276      1.312656     -0.061584     -0.163523  ...    -0.511871   \n",
       "\n",
       "   agg_feat_63  agg_feat_64  agg_feat_65  agg_feat_66  agg_feat_67  \\\n",
       "0    -0.600999     1.461330     1.461369     0.018279    -0.087490   \n",
       "1     0.673103    -0.979074    -0.978556     0.018279    -0.087490   \n",
       "2     0.439728    -0.979074    -0.978556    -0.098889    -0.106715   \n",
       "3    -0.613614     0.241128     0.241406     1.072793     0.085530   \n",
       "4    -0.400422     0.517257     0.579382     0.018279     0.277775   \n",
       "\n",
       "   agg_feat_68  agg_feat_69  agg_feat_70  agg_feat_71  \n",
       "0    -0.131155    -0.097524    -0.120613    -0.119792  \n",
       "1    -0.131155    -0.097524    -0.120613    -0.119792  \n",
       "2    -0.131155    -0.183671    -0.120613    -0.119792  \n",
       "3    -0.131155     0.677799    -0.120613    -0.119792  \n",
       "4     0.326394     1.293750     0.178136     0.179117  \n",
       "\n",
       "[5 rows x 167 columns]"
      ]
     },
     "execution_count": 33,
     "metadata": {},
     "output_type": "execute_result"
    }
   ],
   "source": [
    "df_features = df_features.join(nodes_df.set_index('id'),on='id',how='inner') \\\n",
    "        .drop(columns=['id']).rename(columns={'index':'id'})\n",
    "df_features = df_features [ ['id']+list(df_features.drop(columns=['id']).columns) ]\n",
    "df_features.head()"
   ]
  },
  {
   "cell_type": "code",
   "execution_count": 34,
   "metadata": {
    "id": "qFFg89HyraP6"
   },
   "outputs": [],
   "source": [
    "df_edge_time = df_edge.join(df_features[['id','time step']].rename(columns={'id':'txId1'}).set_index('txId1'),on='txId1',how='left',rsuffix='1') \\\n",
    ".join(df_features[['id','time step']].rename(columns={'id':'txId2'}).set_index('txId2'),on='txId2',how='left',rsuffix='2')\n",
    "df_edge_time['is_time_same'] = df_edge_time['time step'] == df_edge_time['time step2']\n",
    "df_edge_time_fin = df_edge_time[['txId1','txId2','time step']].rename(columns={'txId1':'source','txId2':'target','time step':'time'})"
   ]
  },
  {
   "cell_type": "code",
   "execution_count": 35,
   "metadata": {
    "id": "0oRwz171sdF7"
   },
   "outputs": [],
   "source": [
    "df_features.drop(columns=['time step']).to_csv('data/elliptic_txs_features.csv',index=False,header=None)\n",
    "df_class.rename(columns={'txId':'nid','class':'label'})[['nid','label']].sort_values(by='nid').to_csv('data/elliptic_txs_classes.csv',index=False,header=None)\n",
    "df_features[['id','time step']].rename(columns={'id':'nid','time step':'time'})[['nid','time']].sort_values(by='nid').to_csv('data/elliptic_txs_nodetime.csv',index=False,header=None)\n",
    "df_edge_time_fin[['source','target','time']].to_csv('data/elliptic_txs_edgelist_timed.csv',index=False,header=None)"
   ]
  },
  {
   "cell_type": "markdown",
   "metadata": {
    "id": "glU24wM7uuO6"
   },
   "source": [
    "## Graph Pre-processing"
   ]
  },
  {
   "cell_type": "code",
   "execution_count": 36,
   "metadata": {
    "id": "ebolR4V10TaZ"
   },
   "outputs": [
    {
     "data": {
      "text/html": [
       "<div>\n",
       "<style scoped>\n",
       "    .dataframe tbody tr th:only-of-type {\n",
       "        vertical-align: middle;\n",
       "    }\n",
       "\n",
       "    .dataframe tbody tr th {\n",
       "        vertical-align: top;\n",
       "    }\n",
       "\n",
       "    .dataframe thead th {\n",
       "        text-align: right;\n",
       "    }\n",
       "</style>\n",
       "<table border=\"1\" class=\"dataframe\">\n",
       "  <thead>\n",
       "    <tr style=\"text-align: right;\">\n",
       "      <th></th>\n",
       "      <th>nid</th>\n",
       "      <th>label</th>\n",
       "      <th>time</th>\n",
       "    </tr>\n",
       "  </thead>\n",
       "  <tbody>\n",
       "    <tr>\n",
       "      <th>0</th>\n",
       "      <td>0</td>\n",
       "      <td>1</td>\n",
       "      <td>17</td>\n",
       "    </tr>\n",
       "    <tr>\n",
       "      <th>1</th>\n",
       "      <td>1</td>\n",
       "      <td>2</td>\n",
       "      <td>13</td>\n",
       "    </tr>\n",
       "    <tr>\n",
       "      <th>2</th>\n",
       "      <td>2</td>\n",
       "      <td>1</td>\n",
       "      <td>10</td>\n",
       "    </tr>\n",
       "    <tr>\n",
       "      <th>3</th>\n",
       "      <td>3</td>\n",
       "      <td>2</td>\n",
       "      <td>27</td>\n",
       "    </tr>\n",
       "    <tr>\n",
       "      <th>4</th>\n",
       "      <td>4</td>\n",
       "      <td>2</td>\n",
       "      <td>31</td>\n",
       "    </tr>\n",
       "  </tbody>\n",
       "</table>\n",
       "</div>"
      ],
      "text/plain": [
       "   nid  label  time\n",
       "0    0      1    17\n",
       "1    1      2    13\n",
       "2    2      1    10\n",
       "3    3      2    27\n",
       "4    4      2    31"
      ]
     },
     "execution_count": 36,
     "metadata": {},
     "output_type": "execute_result"
    }
   ],
   "source": [
    "node_label = df_class.rename(columns={'txId':'nid','class':'label'})[['nid','label']].sort_values(by='nid').merge(df_features[['id','time step']].rename(columns={'id':'nid','time step':'time'}),on='nid',how='left')\n",
    "node_label['label'] =  node_label['label'].apply(lambda x: '3'  if x =='unknown' else x).astype(int)-1\n",
    "node_label.head()"
   ]
  },
  {
   "cell_type": "code",
   "execution_count": 37,
   "metadata": {
    "id": "_f0dLVSrvjUD"
   },
   "outputs": [
    {
     "data": {
      "text/html": [
       "<div>\n",
       "<style scoped>\n",
       "    .dataframe tbody tr th:only-of-type {\n",
       "        vertical-align: middle;\n",
       "    }\n",
       "\n",
       "    .dataframe tbody tr th {\n",
       "        vertical-align: top;\n",
       "    }\n",
       "\n",
       "    .dataframe thead th {\n",
       "        text-align: right;\n",
       "    }\n",
       "</style>\n",
       "<table border=\"1\" class=\"dataframe\">\n",
       "  <thead>\n",
       "    <tr style=\"text-align: right;\">\n",
       "      <th></th>\n",
       "      <th>nid</th>\n",
       "      <th>label</th>\n",
       "      <th>time</th>\n",
       "      <th>trans_feat_0</th>\n",
       "      <th>trans_feat_1</th>\n",
       "      <th>trans_feat_2</th>\n",
       "      <th>trans_feat_3</th>\n",
       "      <th>trans_feat_4</th>\n",
       "      <th>trans_feat_5</th>\n",
       "      <th>trans_feat_6</th>\n",
       "      <th>...</th>\n",
       "      <th>agg_feat_62</th>\n",
       "      <th>agg_feat_63</th>\n",
       "      <th>agg_feat_64</th>\n",
       "      <th>agg_feat_65</th>\n",
       "      <th>agg_feat_66</th>\n",
       "      <th>agg_feat_67</th>\n",
       "      <th>agg_feat_68</th>\n",
       "      <th>agg_feat_69</th>\n",
       "      <th>agg_feat_70</th>\n",
       "      <th>agg_feat_71</th>\n",
       "    </tr>\n",
       "  </thead>\n",
       "  <tbody>\n",
       "    <tr>\n",
       "      <th>0</th>\n",
       "      <td>0</td>\n",
       "      <td>1</td>\n",
       "      <td>17</td>\n",
       "      <td>0.218933</td>\n",
       "      <td>0.048298</td>\n",
       "      <td>-1.201369</td>\n",
       "      <td>2.054118</td>\n",
       "      <td>-0.063725</td>\n",
       "      <td>1.480381</td>\n",
       "      <td>2.981378</td>\n",
       "      <td>...</td>\n",
       "      <td>-0.577099</td>\n",
       "      <td>-0.613614</td>\n",
       "      <td>0.241128</td>\n",
       "      <td>0.241406</td>\n",
       "      <td>0.135448</td>\n",
       "      <td>-0.068266</td>\n",
       "      <td>-0.131155</td>\n",
       "      <td>-0.011377</td>\n",
       "      <td>-0.120613</td>\n",
       "      <td>-0.119792</td>\n",
       "    </tr>\n",
       "    <tr>\n",
       "      <th>1</th>\n",
       "      <td>1</td>\n",
       "      <td>2</td>\n",
       "      <td>13</td>\n",
       "      <td>-0.167004</td>\n",
       "      <td>-0.178843</td>\n",
       "      <td>0.463609</td>\n",
       "      <td>-0.121970</td>\n",
       "      <td>-0.024025</td>\n",
       "      <td>-0.113002</td>\n",
       "      <td>-0.061584</td>\n",
       "      <td>...</td>\n",
       "      <td>3.447003</td>\n",
       "      <td>2.346677</td>\n",
       "      <td>0.289197</td>\n",
       "      <td>0.851388</td>\n",
       "      <td>-0.098889</td>\n",
       "      <td>-0.049041</td>\n",
       "      <td>-0.030745</td>\n",
       "      <td>-0.068808</td>\n",
       "      <td>-1.194450</td>\n",
       "      <td>-0.940388</td>\n",
       "    </tr>\n",
       "    <tr>\n",
       "      <th>2</th>\n",
       "      <td>2</td>\n",
       "      <td>1</td>\n",
       "      <td>10</td>\n",
       "      <td>-0.172886</td>\n",
       "      <td>-0.184668</td>\n",
       "      <td>-1.201369</td>\n",
       "      <td>0.178180</td>\n",
       "      <td>-0.043875</td>\n",
       "      <td>0.222447</td>\n",
       "      <td>-0.061584</td>\n",
       "      <td>...</td>\n",
       "      <td>-0.577099</td>\n",
       "      <td>-0.588384</td>\n",
       "      <td>0.241128</td>\n",
       "      <td>0.241406</td>\n",
       "      <td>0.018279</td>\n",
       "      <td>-0.087490</td>\n",
       "      <td>-0.131155</td>\n",
       "      <td>-0.097524</td>\n",
       "      <td>-0.120613</td>\n",
       "      <td>-0.119792</td>\n",
       "    </tr>\n",
       "    <tr>\n",
       "      <th>3</th>\n",
       "      <td>3</td>\n",
       "      <td>2</td>\n",
       "      <td>27</td>\n",
       "      <td>-0.068066</td>\n",
       "      <td>-0.172527</td>\n",
       "      <td>0.463609</td>\n",
       "      <td>-0.121970</td>\n",
       "      <td>-0.043875</td>\n",
       "      <td>-0.113002</td>\n",
       "      <td>-0.061584</td>\n",
       "      <td>...</td>\n",
       "      <td>-0.577099</td>\n",
       "      <td>-0.613614</td>\n",
       "      <td>0.241128</td>\n",
       "      <td>0.241406</td>\n",
       "      <td>0.018279</td>\n",
       "      <td>-0.087490</td>\n",
       "      <td>-0.131155</td>\n",
       "      <td>-0.097524</td>\n",
       "      <td>-0.120613</td>\n",
       "      <td>-0.119792</td>\n",
       "    </tr>\n",
       "    <tr>\n",
       "      <th>4</th>\n",
       "      <td>4</td>\n",
       "      <td>2</td>\n",
       "      <td>31</td>\n",
       "      <td>-0.172141</td>\n",
       "      <td>-0.128652</td>\n",
       "      <td>0.463609</td>\n",
       "      <td>-0.121970</td>\n",
       "      <td>-0.043875</td>\n",
       "      <td>-0.113002</td>\n",
       "      <td>-0.061584</td>\n",
       "      <td>...</td>\n",
       "      <td>-0.479951</td>\n",
       "      <td>-0.531617</td>\n",
       "      <td>-0.979074</td>\n",
       "      <td>-0.978556</td>\n",
       "      <td>0.018279</td>\n",
       "      <td>-0.087490</td>\n",
       "      <td>-0.131155</td>\n",
       "      <td>-0.097524</td>\n",
       "      <td>-0.120613</td>\n",
       "      <td>-0.119792</td>\n",
       "    </tr>\n",
       "  </tbody>\n",
       "</table>\n",
       "<p>5 rows × 168 columns</p>\n",
       "</div>"
      ],
      "text/plain": [
       "   nid  label  time  trans_feat_0  trans_feat_1  trans_feat_2  trans_feat_3  \\\n",
       "0    0      1    17      0.218933      0.048298     -1.201369      2.054118   \n",
       "1    1      2    13     -0.167004     -0.178843      0.463609     -0.121970   \n",
       "2    2      1    10     -0.172886     -0.184668     -1.201369      0.178180   \n",
       "3    3      2    27     -0.068066     -0.172527      0.463609     -0.121970   \n",
       "4    4      2    31     -0.172141     -0.128652      0.463609     -0.121970   \n",
       "\n",
       "   trans_feat_4  trans_feat_5  trans_feat_6  ...  agg_feat_62  agg_feat_63  \\\n",
       "0     -0.063725      1.480381      2.981378  ...    -0.577099    -0.613614   \n",
       "1     -0.024025     -0.113002     -0.061584  ...     3.447003     2.346677   \n",
       "2     -0.043875      0.222447     -0.061584  ...    -0.577099    -0.588384   \n",
       "3     -0.043875     -0.113002     -0.061584  ...    -0.577099    -0.613614   \n",
       "4     -0.043875     -0.113002     -0.061584  ...    -0.479951    -0.531617   \n",
       "\n",
       "   agg_feat_64  agg_feat_65  agg_feat_66  agg_feat_67  agg_feat_68  \\\n",
       "0     0.241128     0.241406     0.135448    -0.068266    -0.131155   \n",
       "1     0.289197     0.851388    -0.098889    -0.049041    -0.030745   \n",
       "2     0.241128     0.241406     0.018279    -0.087490    -0.131155   \n",
       "3     0.241128     0.241406     0.018279    -0.087490    -0.131155   \n",
       "4    -0.979074    -0.978556     0.018279    -0.087490    -0.131155   \n",
       "\n",
       "   agg_feat_69  agg_feat_70  agg_feat_71  \n",
       "0    -0.011377    -0.120613    -0.119792  \n",
       "1    -0.068808    -1.194450    -0.940388  \n",
       "2    -0.097524    -0.120613    -0.119792  \n",
       "3    -0.097524    -0.120613    -0.119792  \n",
       "4    -0.097524    -0.120613    -0.119792  \n",
       "\n",
       "[5 rows x 168 columns]"
      ]
     },
     "execution_count": 37,
     "metadata": {},
     "output_type": "execute_result"
    }
   ],
   "source": [
    "merged_nodes_df = node_label.merge(df_features.rename(columns={'id':'nid','time step':'time'}).drop(columns=['time']),on='nid',how='left')\n",
    "merged_nodes_df.head()"
   ]
  },
  {
   "cell_type": "code",
   "execution_count": 38,
   "metadata": {
    "id": "zquQgCXPsMIN"
   },
   "outputs": [
    {
     "name": "stderr",
     "output_type": "stream",
     "text": [
      "C:\\ProgramData\\Anaconda3\\lib\\site-packages\\torch_geometric\\deprecation.py:22: UserWarning: 'data.DataLoader' is deprecated, use 'loader.DataLoader' instead\n",
      "  warnings.warn(out)\n"
     ]
    }
   ],
   "source": [
    "train_dataset=[]\n",
    "test_dataset=[]\n",
    "for i in range(49):\n",
    "    nodes_df_tmp=merged_nodes_df[merged_nodes_df['time']==i+1].reset_index()\n",
    "    nodes_df_tmp['index']=nodes_df_tmp.index\n",
    "    df_edge_tmp = df_edge_time_fin.join(nodes_df_tmp.rename(columns={'nid':'source'})[['source','index']].set_index('source'),on='source',how='inner')\\\n",
    "        .join(nodes_df_tmp.rename(columns={'nid':'target'})[['target','index']].set_index('target'),on='target',how='inner',rsuffix='2') \\\n",
    "        .drop(columns=['source','target']) \\\n",
    "        .rename(columns={'index':'source','index2':'target'})\n",
    "    x = torch.tensor(np.array(nodes_df_tmp.sort_values(by='index').drop(columns=['index','nid','label'])), dtype=torch.float)\n",
    "    edge_index = torch.tensor(np.array(df_edge_tmp[['source','target']]).T, dtype=torch.long)\n",
    "    edge_index = to_undirected(edge_index)\n",
    "    mask = nodes_df_tmp['label']!=2\n",
    "    y=torch.tensor(np.array(nodes_df_tmp['label']))\n",
    "\n",
    "    \n",
    "    if i+1<35:\n",
    "        data = Data(x=x,edge_index=edge_index, train_mask=mask, y=y)\n",
    "        train_dataset.append(data)\n",
    "    else:\n",
    "        data = Data(x=x,edge_index=edge_index, test_mask=mask, y=y)\n",
    "        test_dataset.append(data)\n",
    "\n",
    "train_loader = DataLoader(train_dataset, batch_size=1, shuffle=True)\n",
    "test_loader = DataLoader(test_dataset, batch_size=1, shuffle=False)"
   ]
  },
  {
   "cell_type": "markdown",
   "metadata": {
    "id": "xHLjqRlXInHD"
   },
   "source": [
    "## GCN Model"
   ]
  },
  {
   "cell_type": "code",
   "execution_count": 39,
   "metadata": {
    "id": "h7tKytc-C4PT"
   },
   "outputs": [],
   "source": [
    "class GCN(torch.nn.Module):\n",
    "    def __init__(self, num_node_features, hidden_channels, use_skip=False):\n",
    "        super(GCN, self).__init__()\n",
    "        self.conv1 = GCNConv(num_node_features, hidden_channels[0])\n",
    "        self.conv2 = GCNConv(hidden_channels[0], 2)\n",
    "        self.use_skip = use_skip\n",
    "        if self.use_skip:\n",
    "            self.weight = nn.init.xavier_normal_(Parameter(torch.Tensor(num_node_features, 2)))\n",
    "\n",
    "\n",
    "    def forward(self, data):\n",
    "        x = self.conv1(data.x, data.edge_index)\n",
    "        x = x.relu()\n",
    "        x = F.dropout(x, p=0.5, training=self.training)\n",
    "        x = self.conv2(x, data.edge_index)\n",
    "        if self.use_skip:\n",
    "            x = F.softmax(x+torch.matmul(data.x, self.weight), dim=-1)\n",
    "        else:\n",
    "            x = F.softmax(x, dim=-1)\n",
    "        return x\n",
    "\n",
    "    def embed(self, data):\n",
    "        x = self.conv1(data.x, data.edge_index)\n",
    "        return x"
   ]
  },
  {
   "cell_type": "code",
   "execution_count": 40,
   "metadata": {
    "id": "ZBQLzM2zKv55"
   },
   "outputs": [
    {
     "data": {
      "text/plain": [
       "GCN(\n",
       "  (conv1): GCNConv(166, 100)\n",
       "  (conv2): GCNConv(100, 2)\n",
       ")"
      ]
     },
     "execution_count": 40,
     "metadata": {},
     "output_type": "execute_result"
    }
   ],
   "source": [
    "model = GCN(num_node_features=data.num_node_features ,hidden_channels=[100])\n",
    "model.to(device)"
   ]
  },
  {
   "cell_type": "markdown",
   "metadata": {
    "id": "GM-0T8IJKA-m"
   },
   "source": [
    "## Training the GCN Model"
   ]
  },
  {
   "cell_type": "markdown",
   "metadata": {
    "id": "i96wwQ1RQ4vw"
   },
   "source": [
    "#### Hyperparameters"
   ]
  },
  {
   "cell_type": "code",
   "execution_count": 41,
   "metadata": {
    "id": "y3JFJ6inQ4gK"
   },
   "outputs": [],
   "source": [
    "patience = 50\n",
    "lr = 0.001\n",
    "epoches = 1000"
   ]
  },
  {
   "cell_type": "code",
   "execution_count": 45,
   "metadata": {
    "id": "V5dxOv0KKCap",
    "scrolled": true
   },
   "outputs": [
    {
     "name": "stdout",
     "output_type": "stream",
     "text": [
      "Epoch: 50, Train_Loss: 0.3649, Val_Loss: 0.3974, Precision: 0.7818, Recall: 0.5226, Illicit f1: 0.6265, F1: 0.9595\n",
      "Epoch: 100, Train_Loss: 0.3604, Val_Loss: 0.3962, Precision: 0.7666, Recall: 0.5429, Illicit f1: 0.6357, F1: 0.9596\n",
      "Epoch: 150, Train_Loss: 0.3575, Val_Loss: 0.3977, Precision: 0.8320, Recall: 0.4986, Illicit f1: 0.6236, F1: 0.9609\n",
      "Epoch: 200, Train_Loss: 0.3555, Val_Loss: 0.3944, Precision: 0.7665, Recall: 0.5577, Illicit f1: 0.6456, F1: 0.9602\n",
      "Epoch: 250, Train_Loss: 0.3539, Val_Loss: 0.3954, Precision: 0.7878, Recall: 0.5383, Illicit f1: 0.6396, F1: 0.9606\n",
      "Epoch: 300, Train_Loss: 0.3532, Val_Loss: 0.3949, Precision: 0.7816, Recall: 0.5485, Illicit f1: 0.6446, F1: 0.9607\n",
      "Epoch: 350, Train_Loss: 0.3522, Val_Loss: 0.3957, Precision: 0.8424, Recall: 0.5134, Illicit f1: 0.6380, F1: 0.9621\n",
      "Epoch: 400, Train_Loss: 0.3514, Val_Loss: 0.3972, Precision: 0.8567, Recall: 0.5023, Illicit f1: 0.6333, F1: 0.9622\n",
      "Epoch: 450, Train_Loss: 0.3506, Val_Loss: 0.3968, Precision: 0.8688, Recall: 0.5014, Illicit f1: 0.6358, F1: 0.9627\n",
      "Epoch: 500, Train_Loss: 0.3497, Val_Loss: 0.3945, Precision: 0.8333, Recall: 0.5355, Illicit f1: 0.6521, F1: 0.9629\n",
      "Epoch: 550, Train_Loss: 0.3492, Val_Loss: 0.3935, Precision: 0.7817, Recall: 0.5586, Illicit f1: 0.6516, F1: 0.9612\n",
      "Epoch: 600, Train_Loss: 0.3487, Val_Loss: 0.3962, Precision: 0.8770, Recall: 0.5005, Illicit f1: 0.6373, F1: 0.9630\n",
      "Epoch: 650, Train_Loss: 0.3490, Val_Loss: 0.3982, Precision: 0.8926, Recall: 0.4912, Illicit f1: 0.6337, F1: 0.9631\n",
      "Epoch: 700, Train_Loss: 0.3486, Val_Loss: 0.3977, Precision: 0.8728, Recall: 0.4940, Illicit f1: 0.6309, F1: 0.9624\n",
      "Epoch: 750, Train_Loss: 0.3489, Val_Loss: 0.3954, Precision: 0.8541, Recall: 0.5189, Illicit f1: 0.6456, F1: 0.9630\n",
      "Epoch: 800, Train_Loss: 0.3486, Val_Loss: 0.3959, Precision: 0.8470, Recall: 0.5162, Illicit f1: 0.6414, F1: 0.9625\n",
      "Epoch: 850, Train_Loss: 0.3472, Val_Loss: 0.3963, Precision: 0.8560, Recall: 0.5162, Illicit f1: 0.6440, F1: 0.9629\n",
      "Epoch: 900, Train_Loss: 0.3472, Val_Loss: 0.3991, Precision: 0.8924, Recall: 0.4746, Illicit f1: 0.6197, F1: 0.9621\n",
      "Epoch: 950, Train_Loss: 0.3465, Val_Loss: 0.3976, Precision: 0.8764, Recall: 0.4912, Illicit f1: 0.6296, F1: 0.9624\n",
      "Epoch: 1000, Train_Loss: 0.3465, Val_Loss: 0.3966, Precision: 0.8629, Recall: 0.5115, Illicit f1: 0.6423, F1: 0.9630\n"
     ]
    }
   ],
   "source": [
    "optimizer = torch.optim.Adam(model.parameters(), lr=lr)\n",
    "criterion = torch.nn.CrossEntropyLoss(weight=torch.tensor([0.7,0.3]).to(device))\n",
    "\n",
    "\n",
    "train_losses=[]\n",
    "val_losses =[]\n",
    "accuracies=[]\n",
    "if1=[]\n",
    "precisions=[]\n",
    "recalls=[]\n",
    "iterations=[]\n",
    "\n",
    "\n",
    "for epoch in range(epoches):\n",
    "    \n",
    "    model.train()\n",
    "    train_loss = 0\n",
    "    for data in train_loader:\n",
    "        data = data.to(device)\n",
    "        optimizer.zero_grad()\n",
    "        out = model(data)\n",
    "        loss = criterion(out[data.train_mask], data.y[data.train_mask].to(torch.int64))\n",
    "        _, pred = out[data.train_mask].max(dim=1)\n",
    "        loss.backward()\n",
    "        train_loss += loss.item() * data.num_graphs\n",
    "        optimizer.step()\n",
    "    train_loss /= len(train_loader.dataset)\n",
    "    \n",
    "\n",
    "    if (epoch+1)%50==0:\n",
    "        model.eval()\n",
    "        ys, preds = [], []\n",
    "        val_loss = 0\n",
    "        for data in test_loader:\n",
    "            data = data.to(device)\n",
    "            out = model(data)\n",
    "            loss = criterion(out[data.test_mask], data.y[data.test_mask].to(torch.int64))\n",
    "            val_loss += loss.item() * data.num_graphs\n",
    "            _, pred = out[data.test_mask].max(dim=1)\n",
    "            ys.append(data.y[data.test_mask].cpu())\n",
    "            preds.append(pred.cpu())\n",
    "\n",
    "        y, pred = torch.cat(ys, dim=0).numpy(), torch.cat(preds, dim=0).numpy()\n",
    "        val_loss /= len(test_loader.dataset)\n",
    "        f1 = f1_score(y, pred, average=None)\n",
    "        mf1 = f1_score(y, pred, average='micro')\n",
    "        precision = precision_score(y, pred, average=None)\n",
    "        recall = recall_score(y, pred, average=None)\n",
    "\n",
    "        iterations.append(epoch+1)\n",
    "        train_losses.append(train_loss)\n",
    "        val_losses.append(val_loss)\n",
    "        if1.append(f1[0])\n",
    "        accuracies.append(mf1)\n",
    "        precisions.append(precision[0])\n",
    "        recalls.append(recall[0])\n",
    "\n",
    "        print('Epoch: {:02d}, Train_Loss: {:.4f}, Val_Loss: {:.4f}, Precision: {:.4f}, Recall: {:.4f}, Illicit f1: {:.4f}, F1: {:.4f}'.format(epoch+1, train_loss, val_loss, precision[0], recall[0], f1[0], mf1))\n",
    "\n",
    "\n",
    "\n",
    "\n"
   ]
  },
  {
   "cell_type": "code",
   "execution_count": 51,
   "metadata": {
    "id": "Adu5SekkqlTs"
   },
   "outputs": [
    {
     "data": {
      "image/png": "[encoded data removed]",
      "text/plain": [
       "<Figure size 432x288 with 1 Axes>"
      ]
     },
     "metadata": {
      "needs_background": "light"
     },
     "output_type": "display_data"
    }
   ],
   "source": [
    "a,b,c,d = train_losses, val_losses, if1, accuracies\n",
    "plt.plot(np.array(a), 'r', label='Train loss')\n",
    "plt.plot(np.array(b), 'g', label='Valid loss')\n",
    "plt.plot(np.array(c), 'black', label='Illicit F1')\n",
    "plt.plot(np.array(d), 'orange', label='F1')\n",
    "plt.ylim([0,1.0])\n",
    "plt.show()"
   ]
  },
  {
   "cell_type": "code",
   "execution_count": 59,
   "metadata": {},
   "outputs": [],
   "source": [
    "torch.save(model.state_dict(), \"Models/GCN_Model\")"
   ]
  }
 ],
 "metadata": {
  "accelerator": "GPU",
  "colab": {
   "collapsed_sections": [],
   "name": "Graph convolutional network.ipynb",
   "provenance": []
  },
  "kernelspec": {
   "display_name": "Python 3",
   "language": "python",
   "name": "python3"
  },
  "language_info": {
   "codemirror_mode": {
    "name": "ipython",
    "version": 3
   },
   "file_extension": ".py",
   "mimetype": "text/x-python",
   "name": "python",
   "nbconvert_exporter": "python",
   "pygments_lexer": "ipython3",
   "version": "3.8.3"
  }
 },
 "nbformat": 4,
 "nbformat_minor": 1
}
