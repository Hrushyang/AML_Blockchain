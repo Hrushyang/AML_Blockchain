{
 "cells": [
  {
   "cell_type": "code",
   "execution_count": 1,
   "metadata": {
    "id": "41yZRi5Hsfnx"
   },
   "outputs": [
    {
     "data": {
      "text/html": [
       "        <script type=\"text/javascript\">\n",
       "        window.PlotlyConfig = {MathJaxConfig: 'local'};\n",
       "        if (window.MathJax) {MathJax.Hub.Config({SVG: {font: \"STIX-Web\"}});}\n",
       "        if (typeof require !== 'undefined') {\n",
       "        require.undef(\"plotly\");\n",
       "        requirejs.config({\n",
       "            paths: {\n",
       "                'plotly': ['https://cdn.plot.ly/plotly-2.2.0.min']\n",
       "            }\n",
       "        });\n",
       "        require(['plotly'], function(Plotly) {\n",
       "            window._Plotly = Plotly;\n",
       "        });\n",
       "        }\n",
       "        </script>\n",
       "        "
      ]
     },
     "metadata": {},
     "output_type": "display_data"
    }
   ],
   "source": [
    "from __future__ import print_function, division\n",
    "import numpy as np \n",
    "import pandas as pd \n",
    "import os\n",
    "import matplotlib.pyplot as plt\n",
    "%matplotlib inline\n",
    "import plotly.offline as py \n",
    "import plotly.graph_objs as go \n",
    "py.init_notebook_mode(connected=True)\n",
    "from sklearn.model_selection import train_test_split\n",
    "from sklearn.metrics import precision_recall_fscore_support\n",
    "from sklearn.metrics import f1_score\n",
    "from sklearn.ensemble import RandomForestClassifier\n",
    "from sklearn.cluster import KMeans\n",
    "from sklearn.model_selection import GridSearchCV"
   ]
  },
  {
   "cell_type": "code",
   "execution_count": 3,
   "metadata": {
    "id": "yhqSqA9Rs1VY"
   },
   "outputs": [],
   "source": [
    "edges = pd.read_csv(\"Dataset/elliptic_txs_edgelist.csv\")\n",
    "features = pd.read_csv(\"Dataset/elliptic_txs_features.csv\",header=None)\n",
    "classes = pd.read_csv(\"Dataset/elliptic_txs_classes.csv\")"
   ]
  },
  {
   "cell_type": "code",
   "execution_count": 4,
   "metadata": {},
   "outputs": [
    {
     "data": {
      "text/html": [
       "<div>\n",
       "<style scoped>\n",
       "    .dataframe tbody tr th:only-of-type {\n",
       "        vertical-align: middle;\n",
       "    }\n",
       "\n",
       "    .dataframe tbody tr th {\n",
       "        vertical-align: top;\n",
       "    }\n",
       "\n",
       "    .dataframe thead th {\n",
       "        text-align: right;\n",
       "    }\n",
       "</style>\n",
       "<table border=\"1\" class=\"dataframe\">\n",
       "  <thead>\n",
       "    <tr style=\"text-align: right;\">\n",
       "      <th></th>\n",
       "      <th>0</th>\n",
       "      <th>1</th>\n",
       "      <th>2</th>\n",
       "      <th>3</th>\n",
       "      <th>4</th>\n",
       "      <th>5</th>\n",
       "      <th>6</th>\n",
       "      <th>7</th>\n",
       "      <th>8</th>\n",
       "      <th>9</th>\n",
       "      <th>...</th>\n",
       "      <th>157</th>\n",
       "      <th>158</th>\n",
       "      <th>159</th>\n",
       "      <th>160</th>\n",
       "      <th>161</th>\n",
       "      <th>162</th>\n",
       "      <th>163</th>\n",
       "      <th>164</th>\n",
       "      <th>165</th>\n",
       "      <th>166</th>\n",
       "    </tr>\n",
       "  </thead>\n",
       "  <tbody>\n",
       "    <tr>\n",
       "      <th>203764</th>\n",
       "      <td>173077460</td>\n",
       "      <td>49</td>\n",
       "      <td>-0.145771</td>\n",
       "      <td>-0.163752</td>\n",
       "      <td>0.463609</td>\n",
       "      <td>-0.121970</td>\n",
       "      <td>-0.043875</td>\n",
       "      <td>-0.113002</td>\n",
       "      <td>-0.061584</td>\n",
       "      <td>-0.135803</td>\n",
       "      <td>...</td>\n",
       "      <td>-0.577099</td>\n",
       "      <td>-0.613614</td>\n",
       "      <td>0.241128</td>\n",
       "      <td>0.241406</td>\n",
       "      <td>0.018279</td>\n",
       "      <td>-0.08749</td>\n",
       "      <td>-0.131155</td>\n",
       "      <td>-0.097524</td>\n",
       "      <td>-0.120613</td>\n",
       "      <td>-0.119792</td>\n",
       "    </tr>\n",
       "    <tr>\n",
       "      <th>203765</th>\n",
       "      <td>158577750</td>\n",
       "      <td>49</td>\n",
       "      <td>-0.165920</td>\n",
       "      <td>-0.123607</td>\n",
       "      <td>1.018602</td>\n",
       "      <td>-0.121970</td>\n",
       "      <td>-0.043875</td>\n",
       "      <td>-0.113002</td>\n",
       "      <td>-0.061584</td>\n",
       "      <td>-0.156418</td>\n",
       "      <td>...</td>\n",
       "      <td>0.162722</td>\n",
       "      <td>0.010822</td>\n",
       "      <td>1.461330</td>\n",
       "      <td>1.461369</td>\n",
       "      <td>-0.098889</td>\n",
       "      <td>-0.08749</td>\n",
       "      <td>-0.084674</td>\n",
       "      <td>-0.140597</td>\n",
       "      <td>-1.760926</td>\n",
       "      <td>-1.760984</td>\n",
       "    </tr>\n",
       "    <tr>\n",
       "      <th>203766</th>\n",
       "      <td>158375402</td>\n",
       "      <td>49</td>\n",
       "      <td>-0.172014</td>\n",
       "      <td>-0.078182</td>\n",
       "      <td>1.018602</td>\n",
       "      <td>0.028105</td>\n",
       "      <td>-0.043875</td>\n",
       "      <td>0.054722</td>\n",
       "      <td>-0.061584</td>\n",
       "      <td>-0.163626</td>\n",
       "      <td>...</td>\n",
       "      <td>1.261246</td>\n",
       "      <td>1.985050</td>\n",
       "      <td>1.461330</td>\n",
       "      <td>1.461369</td>\n",
       "      <td>0.018279</td>\n",
       "      <td>-0.08749</td>\n",
       "      <td>-0.131155</td>\n",
       "      <td>-0.097524</td>\n",
       "      <td>-0.120613</td>\n",
       "      <td>-0.119792</td>\n",
       "    </tr>\n",
       "    <tr>\n",
       "      <th>203767</th>\n",
       "      <td>158654197</td>\n",
       "      <td>49</td>\n",
       "      <td>-0.172842</td>\n",
       "      <td>-0.176622</td>\n",
       "      <td>1.018602</td>\n",
       "      <td>-0.121970</td>\n",
       "      <td>-0.043875</td>\n",
       "      <td>-0.113002</td>\n",
       "      <td>-0.061584</td>\n",
       "      <td>-0.163501</td>\n",
       "      <td>...</td>\n",
       "      <td>-0.397749</td>\n",
       "      <td>-0.411776</td>\n",
       "      <td>1.461330</td>\n",
       "      <td>1.461369</td>\n",
       "      <td>-0.098889</td>\n",
       "      <td>-0.08749</td>\n",
       "      <td>-0.084674</td>\n",
       "      <td>-0.140597</td>\n",
       "      <td>1.519700</td>\n",
       "      <td>1.521399</td>\n",
       "    </tr>\n",
       "    <tr>\n",
       "      <th>203768</th>\n",
       "      <td>157597225</td>\n",
       "      <td>49</td>\n",
       "      <td>-0.012037</td>\n",
       "      <td>-0.132276</td>\n",
       "      <td>0.463609</td>\n",
       "      <td>-0.121970</td>\n",
       "      <td>-0.043875</td>\n",
       "      <td>-0.113002</td>\n",
       "      <td>-0.061584</td>\n",
       "      <td>0.001027</td>\n",
       "      <td>...</td>\n",
       "      <td>-0.577099</td>\n",
       "      <td>-0.613614</td>\n",
       "      <td>0.241128</td>\n",
       "      <td>0.241406</td>\n",
       "      <td>-0.098889</td>\n",
       "      <td>-0.08749</td>\n",
       "      <td>-0.084674</td>\n",
       "      <td>-0.140597</td>\n",
       "      <td>1.519700</td>\n",
       "      <td>1.521399</td>\n",
       "    </tr>\n",
       "  </tbody>\n",
       "</table>\n",
       "<p>5 rows × 167 columns</p>\n",
       "</div>"
      ],
      "text/plain": [
       "              0    1         2         3         4         5         6    \\\n",
       "203764  173077460   49 -0.145771 -0.163752  0.463609 -0.121970 -0.043875   \n",
       "203765  158577750   49 -0.165920 -0.123607  1.018602 -0.121970 -0.043875   \n",
       "203766  158375402   49 -0.172014 -0.078182  1.018602  0.028105 -0.043875   \n",
       "203767  158654197   49 -0.172842 -0.176622  1.018602 -0.121970 -0.043875   \n",
       "203768  157597225   49 -0.012037 -0.132276  0.463609 -0.121970 -0.043875   \n",
       "\n",
       "             7         8         9    ...       157       158       159  \\\n",
       "203764 -0.113002 -0.061584 -0.135803  ... -0.577099 -0.613614  0.241128   \n",
       "203765 -0.113002 -0.061584 -0.156418  ...  0.162722  0.010822  1.461330   \n",
       "203766  0.054722 -0.061584 -0.163626  ...  1.261246  1.985050  1.461330   \n",
       "203767 -0.113002 -0.061584 -0.163501  ... -0.397749 -0.411776  1.461330   \n",
       "203768 -0.113002 -0.061584  0.001027  ... -0.577099 -0.613614  0.241128   \n",
       "\n",
       "             160       161      162       163       164       165       166  \n",
       "203764  0.241406  0.018279 -0.08749 -0.131155 -0.097524 -0.120613 -0.119792  \n",
       "203765  1.461369 -0.098889 -0.08749 -0.084674 -0.140597 -1.760926 -1.760984  \n",
       "203766  1.461369  0.018279 -0.08749 -0.131155 -0.097524 -0.120613 -0.119792  \n",
       "203767  1.461369 -0.098889 -0.08749 -0.084674 -0.140597  1.519700  1.521399  \n",
       "203768  0.241406 -0.098889 -0.08749 -0.084674 -0.140597  1.519700  1.521399  \n",
       "\n",
       "[5 rows x 167 columns]"
      ]
     },
     "execution_count": 4,
     "metadata": {},
     "output_type": "execute_result"
    }
   ],
   "source": [
    "features.tail()"
   ]
  },
  {
   "cell_type": "code",
   "execution_count": 5,
   "metadata": {
    "id": "7k8kee2Ds6UR"
   },
   "outputs": [],
   "source": [
    "tx_features = [\"tx_feat_\"+str(i) for i in range(2,95)]\n",
    "agg_features = [\"agg_feat_\"+str(i) for i in range(1,73)]\n",
    "features.columns = [\"txId\",\"time_step\"] + tx_features + agg_features\n",
    "features = pd.merge(features,classes,left_on=\"txId\",right_on=\"txId\",how='left')\n",
    "features['class'] = features['class'].apply(lambda x: '0' if x == \"unknown\" else x)"
   ]
  },
  {
   "cell_type": "code",
   "execution_count": 6,
   "metadata": {
    "id": "Kp5XKJzVs_fz"
   },
   "outputs": [],
   "source": [
    "count_by_class = features[[\"time_step\",'class']].groupby(['time_step','class']).size().to_frame().reset_index()\n",
    "illicit_count = count_by_class[count_by_class['class'] == '1']\n",
    "licit_count = count_by_class[count_by_class['class'] == '2']\n",
    "unknown_count = count_by_class[count_by_class['class'] == \"0\"]"
   ]
  },
  {
   "cell_type": "code",
   "execution_count": 7,
   "metadata": {
    "id": "0hTiUmXYtDBt"
   },
   "outputs": [],
   "source": [
    "data = features[(features['class']=='1') | (features['class']=='2')]"
   ]
  },
  {
   "cell_type": "code",
   "execution_count": 8,
   "metadata": {
    "id": "yHh_5JI3tGFe"
   },
   "outputs": [],
   "source": [
    "X = data[tx_features+agg_features]\n",
    "y = data['class']\n",
    "y = y.apply(lambda x: 0 if x == '2' else 1 )\n",
    "X_train, X_test, y_train, y_test = train_test_split(X,y,test_size=0.3,random_state=15,shuffle=False)"
   ]
  },
  {
   "cell_type": "code",
   "execution_count": 9,
   "metadata": {
    "id": "j6iVsv8ytIQE"
   },
   "outputs": [
    {
     "name": "stdout",
     "output_type": "stream",
     "text": [
      "Random Forest Classifier- All features\n",
      "Precision:0.981 \n",
      "Recall:0.651 \n",
      "F1 Score:0.782\n",
      "Micro-Average F1 Score: 0.9772369362920544\n"
     ]
    }
   ],
   "source": [
    "clf = RandomForestClassifier(n_estimators=50, max_depth=100,random_state=15).fit(X_train,y_train)\n",
    "preds = clf.predict(X_test)\n",
    "prec,rec,f1,num = precision_recall_fscore_support(y_test,preds, average=None)\n",
    "print(\"Random Forest Classifier- All features\")\n",
    "print(\"Precision:%.3f \\nRecall:%.3f \\nF1 Score:%.3f\"%(prec[1],rec[1],f1[1]))\n",
    "micro_f1 = f1_score(y_test,preds,average='micro')\n",
    "print(\"Micro-Average F1 Score:\",micro_f1)"
   ]
  },
  {
   "cell_type": "code",
   "execution_count": 10,
   "metadata": {
    "id": "OrF3m23htLLo"
   },
   "outputs": [],
   "source": [
    "X = data[tx_features]\n",
    "y = data['class']\n",
    "y = y.apply(lambda x: 0 if x == '2' else 1 )\n",
    "X_train, X_test, y_train, y_test = train_test_split(X,y,test_size=0.3,random_state=15,shuffle=False)"
   ]
  },
  {
   "cell_type": "code",
   "execution_count": 11,
   "metadata": {
    "id": "5cKN1-AytPJG"
   },
   "outputs": [
    {
     "name": "stdout",
     "output_type": "stream",
     "text": [
      "Random Forest Classifier- Local features\n",
      "Precision:0.909 \n",
      "Recall:0.648 \n",
      "F1 Score:0.757\n",
      "Micro-Average F1 Score: 0.9738010021474588\n"
     ]
    }
   ],
   "source": [
    "clf = RandomForestClassifier(n_estimators=50, max_depth=100,random_state=15).fit(X_train,y_train)\n",
    "preds = clf.predict(X_test)\n",
    "prec,rec,f1,num = precision_recall_fscore_support(y_test,preds, average=None)\n",
    "print(\"Random Forest Classifier- Local features\")\n",
    "print(\"Precision:%.3f \\nRecall:%.3f \\nF1 Score:%.3f\"%(prec[1],rec[1],f1[1]))\n",
    "micro_f1 = f1_score(y_test,preds,average='micro')\n",
    "print(\"Micro-Average F1 Score:\",micro_f1)"
   ]
  },
  {
   "cell_type": "code",
   "execution_count": 13,
   "metadata": {
    "id": "Yd9mX8gqtZYI"
   },
   "outputs": [],
   "source": [
    "embed_names = [\"emb_\"+str(i) for i in range(1,51)]\n",
    "embeddings = pd.read_csv('elliptic.emb',delimiter=\" \",skiprows=1,header=None)\n",
    "embeddings.columns = ['txId'] + [\"emb_\"+str(i) for i in range(1,51)]"
   ]
  },
  {
   "cell_type": "code",
   "execution_count": 14,
   "metadata": {
    "id": "Mi6IqvDrtbtF"
   },
   "outputs": [],
   "source": [
    "data = features[(features['class']=='1') | (features['class']=='2')]\n",
    "data = pd.merge(data,embeddings,how='inner')\n",
    "X = data[tx_features+agg_features+embed_names]\n",
    "y = data['class']\n",
    "y = y.apply(lambda x: 0 if x == '2' else 1 )\n",
    "X_train, X_test, y_train, y_test = train_test_split(X,y,test_size=0.3,random_state=15,shuffle=False)"
   ]
  },
  {
   "cell_type": "code",
   "execution_count": 15,
   "metadata": {
    "id": "CKVo4pdSteUO"
   },
   "outputs": [
    {
     "name": "stdout",
     "output_type": "stream",
     "text": [
      "Random Forest Classifier - All features and node embeddings\n",
      "Precision:0.984 \n",
      "Recall:0.647 \n",
      "F1 Score:0.781\n",
      "Micro-Average F1 Score: 0.9772255246007305\n"
     ]
    }
   ],
   "source": [
    "clf = RandomForestClassifier(n_estimators=50, max_depth=100,random_state=15).fit(X_train,y_train)\n",
    "preds = clf.predict(X_test)\n",
    "prec,rec,f1,num = precision_recall_fscore_support(y_test,preds, average=None)\n",
    "print(\"Random Forest Classifier - All features and node embeddings\")\n",
    "print(\"Precision:%.3f \\nRecall:%.3f \\nF1 Score:%.3f\"%(prec[1],rec[1],f1[1]))\n",
    "micro_f1 = f1_score(y_test,preds,average='micro')\n",
    "print(\"Micro-Average F1 Score:\",micro_f1)"
   ]
  },
  {
   "cell_type": "code",
   "execution_count": 16,
   "metadata": {
    "id": "fJtPM9cUtgb4"
   },
   "outputs": [],
   "source": [
    "data = features[(features['class']=='1') | (features['class']=='2')]\n",
    "data = pd.merge(data,embeddings,how='inner')\n",
    "X = data[tx_features+embed_names]\n",
    "y = data['class']\n",
    "y = y.apply(lambda x: 0 if x == '2' else 1 )\n",
    "X_train, X_test, y_train, y_test = train_test_split(X,y,test_size=0.3,random_state=15,shuffle=False)"
   ]
  },
  {
   "cell_type": "code",
   "execution_count": 17,
   "metadata": {
    "id": "jWTziBGCtju-"
   },
   "outputs": [
    {
     "name": "stdout",
     "output_type": "stream",
     "text": [
      "Random Forest Classifier - Local features and node embeddings\n",
      "Precision:0.914 \n",
      "Recall:0.646 \n",
      "F1 Score:0.757\n",
      "Micro-Average F1 Score: 0.9740027214781923\n"
     ]
    }
   ],
   "source": [
    "clf = RandomForestClassifier(n_estimators=50, max_depth=100,random_state=15).fit(X_train,y_train)\n",
    "preds = clf.predict(X_test)\n",
    "prec,rec,f1,num = precision_recall_fscore_support(y_test,preds, average=None)\n",
    "print(\"Random Forest Classifier - Local features and node embeddings\")\n",
    "print(\"Precision:%.3f \\nRecall:%.3f \\nF1 Score:%.3f\"%(prec[1],rec[1],f1[1]))\n",
    "micro_f1 = f1_score(y_test,preds,average='micro')\n",
    "print(\"Micro-Average F1 Score:\",micro_f1)"
   ]
  }
 ],
 "metadata": {
  "colab": {
   "collapsed_sections": [],
   "name": "Elliptic RF.ipynb",
   "provenance": []
  },
  "kernelspec": {
   "display_name": "Python 3",
   "language": "python",
   "name": "python3"
  },
  "language_info": {
   "codemirror_mode": {
    "name": "ipython",
    "version": 3
   },
   "file_extension": ".py",
   "mimetype": "text/x-python",
   "name": "python",
   "nbconvert_exporter": "python",
   "pygments_lexer": "ipython3",
   "version": "3.8.3"
  }
 },
 "nbformat": 4,
 "nbformat_minor": 1
}
